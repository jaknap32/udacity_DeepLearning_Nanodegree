{
 "cells": [
  {
   "cell_type": "markdown",
   "metadata": {
    "collapsed": true
   },
   "source": [
    "# Language Translation\n",
    "In this project, you’re going to take a peek into the realm of neural network machine translation.  You’ll be training a sequence to sequence model on a dataset of English and French sentences that can translate new sentences from English to French.\n",
    "## Get the Data\n",
    "Since translating the whole language of English to French will take lots of time to train, we have provided you with a small portion of the English corpus."
   ]
  },
  {
   "cell_type": "code",
   "execution_count": 2,
   "metadata": {
    "ExecuteTime": {
     "end_time": "2017-12-17T03:22:25.003696Z",
     "start_time": "2017-12-17T03:22:15.041964Z"
    },
    "collapsed": true
   },
   "outputs": [],
   "source": [
    "\"\"\"\n",
    "DON'T MODIFY ANYTHING IN THIS CELL\n",
    "\"\"\"\n",
    "import helper\n",
    "import problem_unittests as tests\n",
    "\n",
    "source_path = 'data/small_vocab_en'\n",
    "target_path = 'data/small_vocab_fr'\n",
    "source_text = helper.load_data(source_path)\n",
    "target_text = helper.load_data(target_path)"
   ]
  },
  {
   "cell_type": "markdown",
   "metadata": {},
   "source": [
    "## Explore the Data\n",
    "Play around with view_sentence_range to view different parts of the data."
   ]
  },
  {
   "cell_type": "code",
   "execution_count": 3,
   "metadata": {
    "ExecuteTime": {
     "end_time": "2017-12-17T03:30:34.388143Z",
     "start_time": "2017-12-17T03:30:33.896834Z"
    }
   },
   "outputs": [
    {
     "name": "stdout",
     "output_type": "stream",
     "text": [
      "Dataset Stats\n",
      "Roughly the number of unique words: 227\n",
      "Number of sentences: 137861\n",
      "Average number of words in a sentence: 13.225277634719028\n",
      "\n",
      "English sentences 0 to 10:\n",
      "new jersey is sometimes quiet during autumn , and it is snowy in april .\n",
      "the united states is usually chilly during july , and it is usually freezing in november .\n",
      "california is usually quiet during march , and it is usually hot in june .\n",
      "the united states is sometimes mild during june , and it is cold in september .\n",
      "your least liked fruit is the grape , but my least liked is the apple .\n",
      "his favorite fruit is the orange , but my favorite is the grape .\n",
      "paris is relaxing during december , but it is usually chilly in july .\n",
      "new jersey is busy during spring , and it is never hot in march .\n",
      "our least liked fruit is the lemon , but my least liked is the grape .\n",
      "the united states is sometimes busy during january , and it is sometimes warm in november .\n",
      "\n",
      "French sentences 0 to 10:\n",
      "new jersey est parfois calme pendant l' automne , et il est neigeux en avril .\n",
      "les états-unis est généralement froid en juillet , et il gèle habituellement en novembre .\n",
      "california est généralement calme en mars , et il est généralement chaud en juin .\n",
      "les états-unis est parfois légère en juin , et il fait froid en septembre .\n",
      "votre moins aimé fruit est le raisin , mais mon moins aimé est la pomme .\n",
      "son fruit préféré est l'orange , mais mon préféré est le raisin .\n",
      "paris est relaxant en décembre , mais il est généralement froid en juillet .\n",
      "new jersey est occupé au printemps , et il est jamais chaude en mars .\n",
      "notre fruit est moins aimé le citron , mais mon moins aimé est le raisin .\n",
      "les états-unis est parfois occupé en janvier , et il est parfois chaud en novembre .\n"
     ]
    }
   ],
   "source": [
    "view_sentence_range = (0, 10)\n",
    "\n",
    "\"\"\"\n",
    "DON'T MODIFY ANYTHING IN THIS CELL\n",
    "\"\"\"\n",
    "import numpy as np\n",
    "\n",
    "print('Dataset Stats')\n",
    "print('Roughly the number of unique words: {}'.format(len({word: None for word in source_text.split()})))\n",
    "\n",
    "sentences = source_text.split('\\n')\n",
    "word_counts = [len(sentence.split()) for sentence in sentences]\n",
    "print('Number of sentences: {}'.format(len(sentences)))\n",
    "print('Average number of words in a sentence: {}'.format(np.average(word_counts)))\n",
    "\n",
    "print()\n",
    "print('English sentences {} to {}:'.format(*view_sentence_range))\n",
    "print('\\n'.join(source_text.split('\\n')[view_sentence_range[0]:view_sentence_range[1]]))\n",
    "print()\n",
    "print('French sentences {} to {}:'.format(*view_sentence_range))\n",
    "print('\\n'.join(target_text.split('\\n')[view_sentence_range[0]:view_sentence_range[1]]))"
   ]
  },
  {
   "cell_type": "markdown",
   "metadata": {},
   "source": [
    "## Implement Preprocessing Function\n",
    "### Text to Word Ids\n",
    "As you did with other RNNs, you must turn the text into a number so the computer can understand it. In the function `text_to_ids()`, you'll turn `source_text` and `target_text` from words to ids.  However, you need to add the `<EOS>` word id at the end of `target_text`.  This will help the neural network predict when the sentence should end.\n",
    "\n",
    "You can get the `<EOS>` word id by doing:\n",
    "```python\n",
    "target_vocab_to_int['<EOS>']\n",
    "```\n",
    "You can get other word ids using `source_vocab_to_int` and `target_vocab_to_int`."
   ]
  },
  {
   "cell_type": "code",
   "execution_count": 4,
   "metadata": {
    "ExecuteTime": {
     "end_time": "2017-12-17T08:40:29.681706Z",
     "start_time": "2017-12-17T08:40:29.668669Z"
    }
   },
   "outputs": [
    {
     "name": "stdout",
     "output_type": "stream",
     "text": [
      "Tests Passed\n"
     ]
    }
   ],
   "source": [
    "def text_to_ids(source_text, target_text, source_vocab_to_int, target_vocab_to_int):\n",
    "    \"\"\"\n",
    "    Convert source and target text to proper word ids\n",
    "    :param source_text: String that contains all the source text.\n",
    "    :param target_text: String that contains all the target text.\n",
    "    :param source_vocab_to_int: Dictionary to go from the source words to an id\n",
    "    :param target_vocab_to_int: Dictionary to go from the target words to an id\n",
    "    :return: A tuple of lists (source_id_text, target_id_text)\n",
    "    \"\"\"\n",
    "    # TODO: Implement Function\n",
    "    source_id_text = [[source_vocab_to_int[i] for i in j.split()] for j in source_text.split(\"\\n\")]\n",
    "    target_id_text = [[target_vocab_to_int[k] for k in p.split()]+[target_vocab_to_int['<EOS>']] for p in target_text.split(\"\\n\")]\n",
    "    return source_id_text, target_id_text\n",
    "\n",
    "\"\"\"\n",
    "DON'T MODIFY ANYTHING IN THIS CELL THAT IS BELOW THIS LINE\n",
    "\"\"\"\n",
    "tests.test_text_to_ids(text_to_ids)"
   ]
  },
  {
   "cell_type": "markdown",
   "metadata": {},
   "source": [
    "### Preprocess all the data and save it\n",
    "Running the code cell below will preprocess all the data and save it to file."
   ]
  },
  {
   "cell_type": "code",
   "execution_count": 5,
   "metadata": {
    "ExecuteTime": {
     "end_time": "2017-12-17T08:40:37.656364Z",
     "start_time": "2017-12-17T08:40:35.947419Z"
    },
    "collapsed": true
   },
   "outputs": [],
   "source": [
    "\"\"\"\n",
    "DON'T MODIFY ANYTHING IN THIS CELL\n",
    "\"\"\"\n",
    "helper.preprocess_and_save_data(source_path, target_path, text_to_ids)"
   ]
  },
  {
   "cell_type": "markdown",
   "metadata": {},
   "source": [
    "# Check Point\n",
    "This is your first checkpoint. If you ever decide to come back to this notebook or have to restart the notebook, you can start from here. The preprocessed data has been saved to disk."
   ]
  },
  {
   "cell_type": "code",
   "execution_count": 6,
   "metadata": {
    "ExecuteTime": {
     "end_time": "2017-12-17T08:40:38.030850Z",
     "start_time": "2017-12-17T08:40:37.658344Z"
    },
    "collapsed": true
   },
   "outputs": [],
   "source": [
    "\"\"\"\n",
    "DON'T MODIFY ANYTHING IN THIS CELL\n",
    "\"\"\"\n",
    "import numpy as np\n",
    "import helper\n",
    "import problem_unittests as tests\n",
    "\n",
    "(source_int_text, target_int_text), (source_vocab_to_int, target_vocab_to_int), _ = helper.load_preprocess()"
   ]
  },
  {
   "cell_type": "markdown",
   "metadata": {},
   "source": [
    "### Check the Version of TensorFlow and Access to GPU\n",
    "This will check to make sure you have the correct version of TensorFlow and access to a GPU"
   ]
  },
  {
   "cell_type": "code",
   "execution_count": 7,
   "metadata": {
    "ExecuteTime": {
     "end_time": "2017-12-17T08:40:40.168231Z",
     "start_time": "2017-12-17T08:40:40.155697Z"
    }
   },
   "outputs": [
    {
     "name": "stdout",
     "output_type": "stream",
     "text": [
      "TensorFlow Version: 1.1.0\n"
     ]
    },
    {
     "name": "stderr",
     "output_type": "stream",
     "text": [
      "/home/ubuntu/anaconda3/lib/python3.6/site-packages/ipykernel_launcher.py:15: UserWarning: No GPU found. Please use a GPU to train your neural network.\n",
      "  from ipykernel import kernelapp as app\n"
     ]
    }
   ],
   "source": [
    "\"\"\"\n",
    "DON'T MODIFY ANYTHING IN THIS CELL\n",
    "\"\"\"\n",
    "from distutils.version import LooseVersion\n",
    "import warnings\n",
    "import tensorflow as tf\n",
    "from tensorflow.python.layers.core import Dense\n",
    "\n",
    "# Check TensorFlow Version\n",
    "assert LooseVersion(tf.__version__) >= LooseVersion('1.1'), 'Please use TensorFlow version 1.1 or newer'\n",
    "print('TensorFlow Version: {}'.format(tf.__version__))\n",
    "\n",
    "# Check for a GPU\n",
    "if not tf.test.gpu_device_name():\n",
    "    warnings.warn('No GPU found. Please use a GPU to train your neural network.')\n",
    "else:\n",
    "    print('Default GPU Device: {}'.format(tf.test.gpu_device_name()))"
   ]
  },
  {
   "cell_type": "markdown",
   "metadata": {},
   "source": [
    "## Build the Neural Network\n",
    "You'll build the components necessary to build a Sequence-to-Sequence model by implementing the following functions below:\n",
    "- `model_inputs`\n",
    "- `process_decoder_input`\n",
    "- `encoding_layer`\n",
    "- `decoding_layer_train`\n",
    "- `decoding_layer_infer`\n",
    "- `decoding_layer`\n",
    "- `seq2seq_model`\n",
    "\n",
    "### Input\n",
    "Implement the `model_inputs()` function to create TF Placeholders for the Neural Network. It should create the following placeholders:\n",
    "\n",
    "- Input text placeholder named \"input\" using the TF Placeholder name parameter with rank 2.\n",
    "- Targets placeholder with rank 2.\n",
    "- Learning rate placeholder with rank 0.\n",
    "- Keep probability placeholder named \"keep_prob\" using the TF Placeholder name parameter with rank 0.\n",
    "- Target sequence length placeholder named \"target_sequence_length\" with rank 1\n",
    "- Max target sequence length tensor named \"max_target_len\" getting its value from applying tf.reduce_max on the target_sequence_length placeholder. Rank 0.\n",
    "- Source sequence length placeholder named \"source_sequence_length\" with rank 1\n",
    "\n",
    "Return the placeholders in the following the tuple (input, targets, learning rate, keep probability, target sequence length, max target sequence length, source sequence length)"
   ]
  },
  {
   "cell_type": "code",
   "execution_count": 8,
   "metadata": {
    "ExecuteTime": {
     "end_time": "2017-12-17T12:13:19.298342Z",
     "start_time": "2017-12-17T12:13:19.255196Z"
    }
   },
   "outputs": [
    {
     "name": "stdout",
     "output_type": "stream",
     "text": [
      "Tests Passed\n"
     ]
    }
   ],
   "source": [
    "def model_inputs():\n",
    "    \"\"\"\n",
    "    Create TF Placeholders for input, targets, learning rate, and lengths of source and target sequences.\n",
    "    :return: Tuple (input, targets, learning rate, keep probability, target sequence length,\n",
    "    max target sequence length, source sequence length)\n",
    "    \"\"\"\n",
    "    # TODO: Implement Function\n",
    "    input_text = tf.placeholder(dtype=tf.int32, shape=[None,None], name='input')\n",
    "    targets = tf.placeholder(dtype=tf.int32, shape=[None,None], name='targets')\n",
    "    lr = tf.placeholder(dtype=tf.float32, name=\"learning_rate\")\n",
    "    keep_prob = tf.placeholder(dtype=tf.float32, name=\"keep_prob\")\n",
    "    trgt_seq_len = tf.placeholder(tf.int32, [None,], name=\"target_sequence_length\")\n",
    "    max_trgt_seq_len = tf.reduce_max(trgt_seq_len, name=\"max_target_len\")\n",
    "    src_seq_len = tf.placeholder(tf.int32, [None,], name=\"source_sequence_length\")\n",
    "    \n",
    "    return input_text, targets, lr, keep_prob, trgt_seq_len, max_trgt_seq_len, src_seq_len\n",
    "\n",
    "\n",
    "\"\"\"\n",
    "DON'T MODIFY ANYTHING IN THIS CELL THAT IS BELOW THIS LINE\n",
    "\"\"\"\n",
    "tests.test_model_inputs(model_inputs)"
   ]
  },
  {
   "cell_type": "markdown",
   "metadata": {},
   "source": [
    "### Process Decoder Input\n",
    "Implement `process_decoder_input` by removing the last word id from each batch in `target_data` and concat the GO ID to the begining of each batch."
   ]
  },
  {
   "cell_type": "code",
   "execution_count": 9,
   "metadata": {
    "ExecuteTime": {
     "end_time": "2017-12-17T12:08:42.294220Z",
     "start_time": "2017-12-17T12:08:42.271152Z"
    }
   },
   "outputs": [
    {
     "name": "stdout",
     "output_type": "stream",
     "text": [
      "Tests Passed\n"
     ]
    }
   ],
   "source": [
    "def process_decoder_input(target_data, target_vocab_to_int, batch_size):\n",
    "    \"\"\"\n",
    "    Preprocess target data for encoding\n",
    "    :param target_data: Target Placehoder\n",
    "    :param target_vocab_to_int: Dictionary to go from the target words to an id\n",
    "    :param batch_size: Batch Size\n",
    "    :return: Preprocessed target data\n",
    "    \"\"\"\n",
    "    # TODO: Implement Function\n",
    "    tmp_go = tf.constant(target_vocab_to_int['<GO>'], shape=(batch_size,1), dtype=tf.int32)\n",
    "    # Concatenate the vector without the last word id with the go ids vector\n",
    "    concat_remove = tf.concat([tmp_go,target_data[:,:-1]],1)\n",
    "    return concat_remove\n",
    "\n",
    "\"\"\"\n",
    "DON'T MODIFY ANYTHING IN THIS CELL THAT IS BELOW THIS LINE\n",
    "\"\"\"\n",
    "tests.test_process_encoding_input(process_decoder_input)"
   ]
  },
  {
   "cell_type": "markdown",
   "metadata": {},
   "source": [
    "### Encoding\n",
    "Implement `encoding_layer()` to create a Encoder RNN layer:\n",
    " * Embed the encoder input using [`tf.contrib.layers.embed_sequence`](https://www.tensorflow.org/api_docs/python/tf/contrib/layers/embed_sequence)\n",
    " * Construct a [stacked](https://github.com/tensorflow/tensorflow/blob/6947f65a374ebf29e74bb71e36fd82760056d82c/tensorflow/docs_src/tutorials/recurrent.md#stacking-multiple-lstms) [`tf.contrib.rnn.LSTMCell`](https://www.tensorflow.org/api_docs/python/tf/contrib/rnn/LSTMCell) wrapped in a [`tf.contrib.rnn.DropoutWrapper`](https://www.tensorflow.org/api_docs/python/tf/contrib/rnn/DropoutWrapper)\n",
    " * Pass cell and embedded input to [`tf.nn.dynamic_rnn()`](https://www.tensorflow.org/api_docs/python/tf/nn/dynamic_rnn)"
   ]
  },
  {
   "cell_type": "code",
   "execution_count": 10,
   "metadata": {
    "ExecuteTime": {
     "end_time": "2017-12-17T12:08:42.914510Z",
     "start_time": "2017-12-17T12:08:42.625036Z"
    },
    "scrolled": true
   },
   "outputs": [
    {
     "name": "stdout",
     "output_type": "stream",
     "text": [
      "Tests Passed\n"
     ]
    }
   ],
   "source": [
    "from imp import reload\n",
    "reload(tests)\n",
    "\n",
    "def encoding_layer(rnn_inputs, rnn_size, num_layers, keep_prob, \n",
    "                   source_sequence_length, source_vocab_size, \n",
    "                   encoding_embedding_size):\n",
    "    \"\"\"\n",
    "    Create encoding layer\n",
    "    :param rnn_inputs: Inputs for the RNN\n",
    "    :param rnn_size: RNN Size\n",
    "    :param num_layers: Number of layers\n",
    "    :param keep_prob: Dropout keep probability\n",
    "    :param source_sequence_length: a list of the lengths of each sequence in the batch\n",
    "    :param source_vocab_size: vocabulary size of source data\n",
    "    :param encoding_embedding_size: embedding size of source data\n",
    "    :return: tuple (RNN output, RNN state)\n",
    "    \"\"\"\n",
    "    # TODO: Implement Function\n",
    "    \n",
    "    \n",
    "    stacked_cell = tf.contrib.rnn.MultiRNNCell([tf.contrib.rnn.DropoutWrapper(tf.contrib.rnn.LSTMCell(rnn_size\\\n",
    "                  ,initializer=tf.random_uniform_initializer(-0.1, 0.1)),output_keep_prob=keep_prob) for _ in range(num_layers)])\n",
    "    \n",
    "    embd = tf.contrib.layers.embed_sequence(rnn_inputs, vocab_size=source_vocab_size, embed_dim=encoding_embedding_size)\n",
    "    \n",
    "    rnn_op, rnn_state = tf.nn.dynamic_rnn(stacked_cell, embd, source_sequence_length, dtype=tf.float32)\n",
    "    return rnn_op, rnn_state\n",
    "\n",
    "\"\"\"\n",
    "DON'T MODIFY ANYTHING IN THIS CELL THAT IS BELOW THIS LINE\n",
    "\"\"\"\n",
    "tests.test_encoding_layer(encoding_layer)"
   ]
  },
  {
   "cell_type": "markdown",
   "metadata": {},
   "source": [
    "### Decoding - Training\n",
    "Create a training decoding layer:\n",
    "* Create a [`tf.contrib.seq2seq.TrainingHelper`](https://www.tensorflow.org/api_docs/python/tf/contrib/seq2seq/TrainingHelper) \n",
    "* Create a [`tf.contrib.seq2seq.BasicDecoder`](https://www.tensorflow.org/api_docs/python/tf/contrib/seq2seq/BasicDecoder)\n",
    "* Obtain the decoder outputs from [`tf.contrib.seq2seq.dynamic_decode`](https://www.tensorflow.org/api_docs/python/tf/contrib/seq2seq/dynamic_decode)"
   ]
  },
  {
   "cell_type": "code",
   "execution_count": 11,
   "metadata": {
    "ExecuteTime": {
     "end_time": "2017-12-17T12:13:46.012167Z",
     "start_time": "2017-12-17T12:13:45.803327Z"
    }
   },
   "outputs": [
    {
     "name": "stdout",
     "output_type": "stream",
     "text": [
      "Tests Passed\n"
     ]
    }
   ],
   "source": [
    "def decoding_layer_train(encoder_state, dec_cell, dec_embed_input, \n",
    "                         target_sequence_length, max_summary_length, \n",
    "                         output_layer, keep_prob):\n",
    "    \"\"\"\n",
    "    Create a decoding layer for training\n",
    "    :param encoder_state: Encoder State\n",
    "    :param dec_cell: Decoder RNN Cell\n",
    "    :param dec_embed_input: Decoder embedded input\n",
    "    :param target_sequence_length: The lengths of each sequence in the target batch\n",
    "    :param max_summary_length: The length of the longest sequence in the batch\n",
    "    :param output_layer: Function to apply the output layer\n",
    "    :param keep_prob: Dropout keep probability\n",
    "    :return: BasicDecoderOutput containing training logits and sample_id\n",
    "    \"\"\"\n",
    "    # TODO: Implement Function\n",
    "    helper = tf.contrib.seq2seq.TrainingHelper(dec_embed_input, target_sequence_length)\n",
    "    \n",
    "    decoder = tf.contrib.seq2seq.BasicDecoder(dec_cell, helper, encoder_state, output_layer)\n",
    "    \n",
    "    opt = tf.contrib.seq2seq.dynamic_decode(decoder,impute_finished=True,maximum_iterations=max_summary_length)[0]\n",
    "    return opt\n",
    "\"\"\"\n",
    "DON'T MODIFY ANYTHING IN THIS CELL THAT IS BELOW THIS LINE\n",
    "\"\"\"\n",
    "tests.test_decoding_layer_train(decoding_layer_train)"
   ]
  },
  {
   "cell_type": "markdown",
   "metadata": {},
   "source": [
    "### Decoding - Inference\n",
    "Create inference decoder:\n",
    "* Create a [`tf.contrib.seq2seq.GreedyEmbeddingHelper`](https://www.tensorflow.org/api_docs/python/tf/contrib/seq2seq/GreedyEmbeddingHelper)\n",
    "* Create a [`tf.contrib.seq2seq.BasicDecoder`](https://www.tensorflow.org/api_docs/python/tf/contrib/seq2seq/BasicDecoder)\n",
    "* Obtain the decoder outputs from [`tf.contrib.seq2seq.dynamic_decode`](https://www.tensorflow.org/api_docs/python/tf/contrib/seq2seq/dynamic_decode)"
   ]
  },
  {
   "cell_type": "code",
   "execution_count": 12,
   "metadata": {
    "ExecuteTime": {
     "end_time": "2017-12-17T12:13:47.515306Z",
     "start_time": "2017-12-17T12:13:47.324703Z"
    },
    "scrolled": true
   },
   "outputs": [
    {
     "name": "stdout",
     "output_type": "stream",
     "text": [
      "Tests Passed\n"
     ]
    }
   ],
   "source": [
    "def decoding_layer_infer(encoder_state, dec_cell, dec_embeddings, start_of_sequence_id,\n",
    "                         end_of_sequence_id, max_target_sequence_length,\n",
    "                         vocab_size, output_layer, batch_size, keep_prob):\n",
    "    \"\"\"\n",
    "    Create a decoding layer for inference\n",
    "    :param encoder_state: Encoder state\n",
    "    :param dec_cell: Decoder RNN Cell\n",
    "    :param dec_embeddings: Decoder embeddings\n",
    "    :param start_of_sequence_id: GO ID\n",
    "    :param end_of_sequence_id: EOS Id\n",
    "    :param max_target_sequence_length: Maximum length of target sequences\n",
    "    :param vocab_size: Size of decoder/target vocabulary\n",
    "    :param decoding_scope: TenorFlow Variable Scope for decoding\n",
    "    :param output_layer: Function to apply the output layer\n",
    "    :param batch_size: Batch size\n",
    "    :param keep_prob: Dropout keep probability\n",
    "    :return: BasicDecoderOutput containing inference logits and sample_id\n",
    "    \"\"\"\n",
    "    # TODO: Implement Function\n",
    "    start_ids = tf.tile([start_of_sequence_id], [batch_size])\n",
    "    \n",
    "    helper = tf.contrib.seq2seq.GreedyEmbeddingHelper(dec_embeddings, start_ids, end_of_sequence_id)\n",
    "    \n",
    "    decoder = tf.contrib.seq2seq.BasicDecoder(dec_cell, helper, encoder_state, output_layer)\n",
    "    \n",
    "    opt = tf.contrib.seq2seq.dynamic_decode(decoder,impute_finished=True,maximum_iterations=max_target_sequence_length)[0]\n",
    "    \n",
    "    return opt\n",
    "\n",
    "\n",
    "\n",
    "\"\"\"\n",
    "DON'T MODIFY ANYTHING IN THIS CELL THAT IS BELOW THIS LINE\n",
    "\"\"\"\n",
    "tests.test_decoding_layer_infer(decoding_layer_infer)"
   ]
  },
  {
   "cell_type": "markdown",
   "metadata": {},
   "source": [
    "### Build the Decoding Layer\n",
    "Implement `decoding_layer()` to create a Decoder RNN layer.\n",
    "\n",
    "* Embed the target sequences\n",
    "* Construct the decoder LSTM cell (just like you constructed the encoder cell above)\n",
    "* Create an output layer to map the outputs of the decoder to the elements of our vocabulary\n",
    "* Use the your `decoding_layer_train(encoder_state, dec_cell, dec_embed_input, target_sequence_length, max_target_sequence_length, output_layer, keep_prob)` function to get the training logits.\n",
    "* Use your `decoding_layer_infer(encoder_state, dec_cell, dec_embeddings, start_of_sequence_id, end_of_sequence_id, max_target_sequence_length, vocab_size, output_layer, batch_size, keep_prob)` function to get the inference logits.\n",
    "\n",
    "Note: You'll need to use [tf.variable_scope](https://www.tensorflow.org/api_docs/python/tf/variable_scope) to share variables between training and inference."
   ]
  },
  {
   "cell_type": "code",
   "execution_count": 13,
   "metadata": {
    "ExecuteTime": {
     "end_time": "2017-12-17T12:13:48.238522Z",
     "start_time": "2017-12-17T12:13:47.710424Z"
    }
   },
   "outputs": [
    {
     "name": "stdout",
     "output_type": "stream",
     "text": [
      "Tests Passed\n"
     ]
    }
   ],
   "source": [
    "def decoding_layer(dec_input, encoder_state,\n",
    "                   target_sequence_length, max_target_sequence_length,\n",
    "                   rnn_size,\n",
    "                   num_layers, target_vocab_to_int, target_vocab_size,\n",
    "                   batch_size, keep_prob, decoding_embedding_size):\n",
    "    \"\"\"\n",
    "    Create decoding layer\n",
    "    :param dec_input: Decoder input\n",
    "    :param encoder_state: Encoder state\n",
    "    :param target_sequence_length: The lengths of each sequence in the target batch\n",
    "    :param max_target_sequence_length: Maximum length of target sequences\n",
    "    :param rnn_size: RNN Size\n",
    "    :param num_layers: Number of layers\n",
    "    :param target_vocab_to_int: Dictionary to go from the target words to an id\n",
    "    :param target_vocab_size: Size of target vocabulary\n",
    "    :param batch_size: The size of the batch\n",
    "    :param keep_prob: Dropout keep probability\n",
    "    :param decoding_embedding_size: Decoding embedding size\n",
    "    :return: Tuple of (Training BasicDecoderOutput, Inference BasicDecoderOutput)\n",
    "    \"\"\"\n",
    "    # TODO: Implement Function\n",
    "    \n",
    "    dec_embd = tf.Variable(tf.random_uniform([target_vocab_size, decoding_embedding_size]))\n",
    "    dec_embd_inpt = tf.nn.embedding_lookup(dec_embd, dec_input)\n",
    "\n",
    "    stacked_cell = tf.contrib.rnn.MultiRNNCell([tf.contrib.rnn.DropoutWrapper(tf.contrib.rnn.LSTMCell(rnn_size\\\n",
    "                  ,initializer=tf.random_uniform_initializer(-0.1, 0.1)),output_keep_prob=keep_prob) for _ in range(num_layers)])\n",
    "    \n",
    "    output_layer = Dense(target_vocab_size,kernel_initializer = tf.truncated_normal_initializer(mean = 0, stddev=0.1))\n",
    "    \n",
    "    with tf.variable_scope(\"decode\") as scope:\n",
    "        train_logits = decoding_layer_train(encoder_state, stacked_cell, dec_embd_inpt,target_sequence_length\n",
    "                                            ,max_target_sequence_length,output_layer, keep_prob)\n",
    "        scope.reuse_variables()\n",
    "        \n",
    "        infer_logits = decoding_layer_infer(encoder_state, stacked_cell, dec_embd,target_vocab_to_int['<GO>']\n",
    "                            ,target_vocab_to_int['<EOS>'],max_target_sequence_length, target_vocab_size,output_layer\n",
    "                            ,batch_size, keep_prob)\n",
    "    \n",
    "    return train_logits, infer_logits\n",
    "\n",
    "\"\"\"\n",
    "DON'T MODIFY ANYTHING IN THIS CELL THAT IS BELOW THIS LINE\n",
    "\"\"\"\n",
    "tests.test_decoding_layer(decoding_layer)"
   ]
  },
  {
   "cell_type": "markdown",
   "metadata": {},
   "source": [
    "### Build the Neural Network\n",
    "Apply the functions you implemented above to:\n",
    "\n",
    "- Encode the input using your `encoding_layer(rnn_inputs, rnn_size, num_layers, keep_prob,  source_sequence_length, source_vocab_size, encoding_embedding_size)`.\n",
    "- Process target data using your `process_decoder_input(target_data, target_vocab_to_int, batch_size)` function.\n",
    "- Decode the encoded input using your `decoding_layer(dec_input, enc_state, target_sequence_length, max_target_sentence_length, rnn_size, num_layers, target_vocab_to_int, target_vocab_size, batch_size, keep_prob, dec_embedding_size)` function."
   ]
  },
  {
   "cell_type": "code",
   "execution_count": 14,
   "metadata": {
    "ExecuteTime": {
     "end_time": "2017-12-17T12:24:43.304237Z",
     "start_time": "2017-12-17T12:23:39.866Z"
    }
   },
   "outputs": [
    {
     "name": "stdout",
     "output_type": "stream",
     "text": [
      "Tests Passed\n"
     ]
    }
   ],
   "source": [
    "def seq2seq_model(input_data, target_data, keep_prob, batch_size,\n",
    "                  source_sequence_length, target_sequence_length,\n",
    "                  max_target_sentence_length,\n",
    "                  source_vocab_size, target_vocab_size,\n",
    "                  enc_embedding_size, dec_embedding_size,\n",
    "                  rnn_size, num_layers, target_vocab_to_int):\n",
    "    \"\"\"\n",
    "    Build the Sequence-to-Sequence part of the neural network\n",
    "    :param input_data: Input placeholder\n",
    "    :param target_data: Target placeholder\n",
    "    :param keep_prob: Dropout keep probability placeholder\n",
    "    :param batch_size: Batch Size\n",
    "    :param source_sequence_length: Sequence Lengths of source sequences in the batch\n",
    "    :param target_sequence_length: Sequence Lengths of target sequences in the batch\n",
    "    :param source_vocab_size: Source vocabulary size\n",
    "    :param target_vocab_size: Target vocabulary size\n",
    "    :param enc_embedding_size: Decoder embedding size\n",
    "    :param dec_embedding_size: Encoder embedding size\n",
    "    :param rnn_size: RNN Size\n",
    "    :param num_layers: Number of layers\n",
    "    :param target_vocab_to_int: Dictionary to go from the target words to an id\n",
    "    :return: Tuple of (Training BasicDecoderOutput, Inference BasicDecoderOutput)\n",
    "    \"\"\"\n",
    "    # TODO: Implement Function\n",
    "    _, rnn_st = encoding_layer(input_data, rnn_size, num_layers, keep_prob, source_sequence_length, source_vocab_size\\\n",
    "                                   , enc_embedding_size)\n",
    "    \n",
    "    dec_inp = process_decoder_input(target_data, target_vocab_to_int, batch_size)\n",
    "    \n",
    "    train_dec_opt, infer_dec_opt = decoding_layer(dec_inp, rnn_st,target_sequence_length, max_target_sentence_length\\\n",
    "                                            , rnn_size, num_layers, target_vocab_to_int, target_vocab_size, batch_size\\\n",
    "                                            , keep_prob, dec_embedding_size)\n",
    "    \n",
    "    return train_dec_opt, infer_dec_opt\n",
    "\n",
    "\n",
    "\"\"\"\n",
    "DON'T MODIFY ANYTHING IN THIS CELL THAT IS BELOW THIS LINE\n",
    "\"\"\"\n",
    "tests.test_seq2seq_model(seq2seq_model)"
   ]
  },
  {
   "cell_type": "markdown",
   "metadata": {},
   "source": [
    "## Neural Network Training\n",
    "### Hyperparameters\n",
    "Tune the following parameters:\n",
    "\n",
    "- Set `epochs` to the number of epochs.\n",
    "- Set `batch_size` to the batch size.\n",
    "- Set `rnn_size` to the size of the RNNs.\n",
    "- Set `num_layers` to the number of layers.\n",
    "- Set `encoding_embedding_size` to the size of the embedding for the encoder.\n",
    "- Set `decoding_embedding_size` to the size of the embedding for the decoder.\n",
    "- Set `learning_rate` to the learning rate.\n",
    "- Set `keep_probability` to the Dropout keep probability\n",
    "- Set `display_step` to state how many steps between each debug output statement"
   ]
  },
  {
   "cell_type": "code",
   "execution_count": 15,
   "metadata": {
    "ExecuteTime": {
     "end_time": "2017-12-17T12:21:45.932922Z",
     "start_time": "2017-12-17T12:21:45.925903Z"
    },
    "collapsed": true
   },
   "outputs": [],
   "source": [
    "# Number of Epochs\n",
    "epochs = 10\n",
    "# Batch Size\n",
    "batch_size = 512\n",
    "# RNN Size\n",
    "rnn_size = 512\n",
    "# Number of Layers\n",
    "num_layers = 4\n",
    "# Embedding Size\n",
    "encoding_embedding_size = 128\n",
    "decoding_embedding_size = 128\n",
    "# Learning Rate\n",
    "learning_rate = .005\n",
    "# Dropout Keep Probability\n",
    "keep_probability = .6\n",
    "display_step = 10"
   ]
  },
  {
   "cell_type": "markdown",
   "metadata": {},
   "source": [
    "### Build the Graph\n",
    "Build the graph using the neural network you implemented."
   ]
  },
  {
   "cell_type": "code",
   "execution_count": 16,
   "metadata": {
    "ExecuteTime": {
     "end_time": "2017-12-17T12:21:48.884328Z",
     "start_time": "2017-12-17T12:21:46.518060Z"
    },
    "collapsed": true
   },
   "outputs": [],
   "source": [
    "\"\"\"\n",
    "DON'T MODIFY ANYTHING IN THIS CELL\n",
    "\"\"\"\n",
    "save_path = 'checkpoints/dev'\n",
    "(source_int_text, target_int_text), (source_vocab_to_int, target_vocab_to_int), _ = helper.load_preprocess()\n",
    "max_target_sentence_length = max([len(sentence) for sentence in source_int_text])\n",
    "\n",
    "train_graph = tf.Graph()\n",
    "with train_graph.as_default():\n",
    "    input_data, targets, lr, keep_prob, target_sequence_length, max_target_sequence_length, source_sequence_length = model_inputs()\n",
    "\n",
    "    #sequence_length = tf.placeholder_with_default(max_target_sentence_length, None, name='sequence_length')\n",
    "    input_shape = tf.shape(input_data)\n",
    "\n",
    "    train_logits, inference_logits = seq2seq_model(tf.reverse(input_data, [-1]),\n",
    "                                                   targets,\n",
    "                                                   keep_prob,\n",
    "                                                   batch_size,\n",
    "                                                   source_sequence_length,\n",
    "                                                   target_sequence_length,\n",
    "                                                   max_target_sequence_length,\n",
    "                                                   len(source_vocab_to_int),\n",
    "                                                   len(target_vocab_to_int),\n",
    "                                                   encoding_embedding_size,\n",
    "                                                   decoding_embedding_size,\n",
    "                                                   rnn_size,\n",
    "                                                   num_layers,\n",
    "                                                   target_vocab_to_int)\n",
    "\n",
    "\n",
    "    training_logits = tf.identity(train_logits.rnn_output, name='logits')\n",
    "    inference_logits = tf.identity(inference_logits.sample_id, name='predictions')\n",
    "\n",
    "    masks = tf.sequence_mask(target_sequence_length, max_target_sequence_length, dtype=tf.float32, name='masks')\n",
    "\n",
    "    with tf.name_scope(\"optimization\"):\n",
    "        # Loss function\n",
    "        cost = tf.contrib.seq2seq.sequence_loss(\n",
    "            training_logits,\n",
    "            targets,\n",
    "            masks)\n",
    "\n",
    "        # Optimizer\n",
    "        optimizer = tf.train.AdamOptimizer(lr)\n",
    "\n",
    "        # Gradient Clipping\n",
    "        gradients = optimizer.compute_gradients(cost)\n",
    "        capped_gradients = [(tf.clip_by_value(grad, -1., 1.), var) for grad, var in gradients if grad is not None]\n",
    "        train_op = optimizer.apply_gradients(capped_gradients)"
   ]
  },
  {
   "cell_type": "markdown",
   "metadata": {},
   "source": [
    "Batch and pad the source and target sequences"
   ]
  },
  {
   "cell_type": "code",
   "execution_count": 17,
   "metadata": {
    "ExecuteTime": {
     "end_time": "2017-12-17T12:21:48.933932Z",
     "start_time": "2017-12-17T12:21:48.886307Z"
    },
    "collapsed": true
   },
   "outputs": [],
   "source": [
    "\"\"\"\n",
    "DON'T MODIFY ANYTHING IN THIS CELL\n",
    "\"\"\"\n",
    "def pad_sentence_batch(sentence_batch, pad_int):\n",
    "    \"\"\"Pad sentences with <PAD> so that each sentence of a batch has the same length\"\"\"\n",
    "    max_sentence = max([len(sentence) for sentence in sentence_batch])\n",
    "    return [sentence + [pad_int] * (max_sentence - len(sentence)) for sentence in sentence_batch]\n",
    "\n",
    "\n",
    "def get_batches(sources, targets, batch_size, source_pad_int, target_pad_int):\n",
    "    \"\"\"Batch targets, sources, and the lengths of their sentences together\"\"\"\n",
    "    for batch_i in range(0, len(sources)//batch_size):\n",
    "        start_i = batch_i * batch_size\n",
    "\n",
    "        # Slice the right amount for the batch\n",
    "        sources_batch = sources[start_i:start_i + batch_size]\n",
    "        targets_batch = targets[start_i:start_i + batch_size]\n",
    "\n",
    "        # Pad\n",
    "        pad_sources_batch = np.array(pad_sentence_batch(sources_batch, source_pad_int))\n",
    "        pad_targets_batch = np.array(pad_sentence_batch(targets_batch, target_pad_int))\n",
    "\n",
    "        # Need the lengths for the _lengths parameters\n",
    "        pad_targets_lengths = []\n",
    "        for target in pad_targets_batch:\n",
    "            pad_targets_lengths.append(len(target))\n",
    "\n",
    "        pad_source_lengths = []\n",
    "        for source in pad_sources_batch:\n",
    "            pad_source_lengths.append(len(source))\n",
    "\n",
    "        yield pad_sources_batch, pad_targets_batch, pad_source_lengths, pad_targets_lengths"
   ]
  },
  {
   "cell_type": "markdown",
   "metadata": {},
   "source": [
    "### Train\n",
    "Train the neural network on the preprocessed data. If you have a hard time getting a good loss, check the forms to see if anyone is having the same problem."
   ]
  },
  {
   "cell_type": "code",
   "execution_count": 22,
   "metadata": {
    "ExecuteTime": {
     "end_time": "2017-12-17T12:24:43.303234Z",
     "start_time": "2017-12-17T12:21:48.936439Z"
    },
    "scrolled": true
   },
   "outputs": [
    {
     "name": "stdout",
     "output_type": "stream",
     "text": [
      "Epoch   0 Batch   10/269 - Train Accuracy: 0.3121, Validation Accuracy: 0.3778, Loss: 3.4704\n",
      "Epoch   0 Batch   20/269 - Train Accuracy: 0.3230, Validation Accuracy: 0.3817, Loss: 3.1004\n",
      "Epoch   0 Batch   30/269 - Train Accuracy: 0.3307, Validation Accuracy: 0.3602, Loss: 2.8493\n",
      "Epoch   0 Batch   40/269 - Train Accuracy: 0.3497, Validation Accuracy: 0.4069, Loss: 2.8724\n",
      "Epoch   0 Batch   50/269 - Train Accuracy: 0.3430, Validation Accuracy: 0.3993, Loss: 2.6755\n",
      "Epoch   0 Batch   60/269 - Train Accuracy: 0.4346, Validation Accuracy: 0.4498, Loss: 2.3063\n",
      "Epoch   0 Batch   70/269 - Train Accuracy: 0.3903, Validation Accuracy: 0.4117, Loss: 2.2579\n",
      "Epoch   0 Batch   80/269 - Train Accuracy: 0.4541, Validation Accuracy: 0.4699, Loss: 2.1670\n",
      "Epoch   0 Batch   90/269 - Train Accuracy: 0.4075, Validation Accuracy: 0.4694, Loss: 2.1665\n",
      "Epoch   0 Batch  100/269 - Train Accuracy: 0.4549, Validation Accuracy: 0.4579, Loss: 1.9400\n",
      "Epoch   0 Batch  110/269 - Train Accuracy: 0.4318, Validation Accuracy: 0.4516, Loss: 1.8660\n",
      "Epoch   0 Batch  120/269 - Train Accuracy: 0.3051, Validation Accuracy: 0.3608, Loss: 1.9470\n",
      "Epoch   0 Batch  130/269 - Train Accuracy: 0.3982, Validation Accuracy: 0.4557, Loss: 1.8435\n",
      "Epoch   0 Batch  140/269 - Train Accuracy: 0.4347, Validation Accuracy: 0.4479, Loss: 1.6146\n",
      "Epoch   0 Batch  150/269 - Train Accuracy: 0.4311, Validation Accuracy: 0.4471, Loss: 1.5741\n",
      "Epoch   0 Batch  160/269 - Train Accuracy: 0.3994, Validation Accuracy: 0.4332, Loss: 1.6726\n",
      "Epoch   0 Batch  170/269 - Train Accuracy: 0.4349, Validation Accuracy: 0.4591, Loss: 1.5503\n",
      "Epoch   0 Batch  180/269 - Train Accuracy: 0.4196, Validation Accuracy: 0.4444, Loss: 1.3984\n",
      "Epoch   0 Batch  190/269 - Train Accuracy: 0.4340, Validation Accuracy: 0.4416, Loss: 1.2870\n",
      "Epoch   0 Batch  200/269 - Train Accuracy: 0.4187, Validation Accuracy: 0.4500, Loss: 1.2862\n",
      "Epoch   0 Batch  210/269 - Train Accuracy: 0.4610, Validation Accuracy: 0.4625, Loss: 1.1380\n",
      "Epoch   0 Batch  220/269 - Train Accuracy: 0.4538, Validation Accuracy: 0.4473, Loss: 1.0384\n",
      "Epoch   0 Batch  230/269 - Train Accuracy: 0.4547, Validation Accuracy: 0.4643, Loss: 1.0558\n",
      "Epoch   0 Batch  240/269 - Train Accuracy: 0.5093, Validation Accuracy: 0.4781, Loss: 0.9223\n",
      "Epoch   0 Batch  250/269 - Train Accuracy: 0.4327, Validation Accuracy: 0.4682, Loss: 0.9888\n",
      "Epoch   0 Batch  260/269 - Train Accuracy: 0.4235, Validation Accuracy: 0.4644, Loss: 0.9693\n",
      "Epoch   1 Batch   10/269 - Train Accuracy: 0.4479, Validation Accuracy: 0.4824, Loss: 0.9044\n",
      "Epoch   1 Batch   20/269 - Train Accuracy: 0.4588, Validation Accuracy: 0.4879, Loss: 0.8933\n",
      "Epoch   1 Batch   30/269 - Train Accuracy: 0.4957, Validation Accuracy: 0.5034, Loss: 0.8398\n",
      "Epoch   1 Batch   40/269 - Train Accuracy: 0.4632, Validation Accuracy: 0.5051, Loss: 0.8708\n",
      "Epoch   1 Batch   50/269 - Train Accuracy: 0.4605, Validation Accuracy: 0.5038, Loss: 0.8724\n",
      "Epoch   1 Batch   60/269 - Train Accuracy: 0.5140, Validation Accuracy: 0.5181, Loss: 0.7604\n",
      "Epoch   1 Batch   70/269 - Train Accuracy: 0.5161, Validation Accuracy: 0.5211, Loss: 0.8033\n",
      "Epoch   1 Batch   80/269 - Train Accuracy: 0.5113, Validation Accuracy: 0.5115, Loss: 0.7756\n",
      "Epoch   1 Batch   90/269 - Train Accuracy: 0.4686, Validation Accuracy: 0.5119, Loss: 0.8158\n",
      "Epoch   1 Batch  100/269 - Train Accuracy: 0.5022, Validation Accuracy: 0.4911, Loss: 0.7541\n",
      "Epoch   1 Batch  110/269 - Train Accuracy: 0.5048, Validation Accuracy: 0.5182, Loss: 0.7316\n",
      "Epoch   1 Batch  120/269 - Train Accuracy: 0.5056, Validation Accuracy: 0.5297, Loss: 0.7573\n",
      "Epoch   1 Batch  130/269 - Train Accuracy: 0.4978, Validation Accuracy: 0.5145, Loss: 0.7548\n",
      "Epoch   1 Batch  140/269 - Train Accuracy: 0.5253, Validation Accuracy: 0.5256, Loss: 0.7395\n",
      "Epoch   1 Batch  150/269 - Train Accuracy: 0.5369, Validation Accuracy: 0.5352, Loss: 0.7220\n",
      "Epoch   1 Batch  160/269 - Train Accuracy: 0.5461, Validation Accuracy: 0.5380, Loss: 0.6893\n",
      "Epoch   1 Batch  170/269 - Train Accuracy: 0.5417, Validation Accuracy: 0.5284, Loss: 0.6786\n",
      "Epoch   1 Batch  180/269 - Train Accuracy: 0.5519, Validation Accuracy: 0.5510, Loss: 0.6747\n",
      "Epoch   1 Batch  190/269 - Train Accuracy: 0.5584, Validation Accuracy: 0.5466, Loss: 0.6606\n",
      "Epoch   1 Batch  200/269 - Train Accuracy: 0.5332, Validation Accuracy: 0.5631, Loss: 0.6939\n",
      "Epoch   1 Batch  210/269 - Train Accuracy: 0.5339, Validation Accuracy: 0.5299, Loss: 0.6618\n",
      "Epoch   1 Batch  220/269 - Train Accuracy: 0.5671, Validation Accuracy: 0.5487, Loss: 0.6274\n",
      "Epoch   1 Batch  230/269 - Train Accuracy: 0.5576, Validation Accuracy: 0.5508, Loss: 0.6540\n",
      "Epoch   1 Batch  240/269 - Train Accuracy: 0.5758, Validation Accuracy: 0.5336, Loss: 0.5952\n",
      "Epoch   1 Batch  250/269 - Train Accuracy: 0.5395, Validation Accuracy: 0.5530, Loss: 0.6533\n",
      "Epoch   1 Batch  260/269 - Train Accuracy: 0.5271, Validation Accuracy: 0.5592, Loss: 0.6825\n",
      "Epoch   2 Batch   10/269 - Train Accuracy: 0.5560, Validation Accuracy: 0.5675, Loss: 0.6442\n",
      "Epoch   2 Batch   20/269 - Train Accuracy: 0.5640, Validation Accuracy: 0.5696, Loss: 0.6460\n",
      "Epoch   2 Batch   30/269 - Train Accuracy: 0.5543, Validation Accuracy: 0.5649, Loss: 0.6177\n",
      "Epoch   2 Batch   40/269 - Train Accuracy: 0.5658, Validation Accuracy: 0.5764, Loss: 0.6308\n",
      "Epoch   2 Batch   50/269 - Train Accuracy: 0.5585, Validation Accuracy: 0.5676, Loss: 0.6352\n",
      "Epoch   2 Batch   60/269 - Train Accuracy: 0.5888, Validation Accuracy: 0.5669, Loss: 0.5901\n",
      "Epoch   2 Batch   70/269 - Train Accuracy: 0.5830, Validation Accuracy: 0.5618, Loss: 0.6138\n",
      "Epoch   2 Batch   80/269 - Train Accuracy: 0.5730, Validation Accuracy: 0.5750, Loss: 0.5960\n",
      "Epoch   2 Batch   90/269 - Train Accuracy: 0.5512, Validation Accuracy: 0.6003, Loss: 0.6209\n",
      "Epoch   2 Batch  100/269 - Train Accuracy: 0.5839, Validation Accuracy: 0.5704, Loss: 0.5788\n",
      "Epoch   2 Batch  110/269 - Train Accuracy: 0.5813, Validation Accuracy: 0.5716, Loss: 0.5605\n",
      "Epoch   2 Batch  120/269 - Train Accuracy: 0.5909, Validation Accuracy: 0.6057, Loss: 0.5932\n",
      "Epoch   2 Batch  130/269 - Train Accuracy: 0.5817, Validation Accuracy: 0.5961, Loss: 0.5885\n",
      "Epoch   2 Batch  140/269 - Train Accuracy: 0.6128, Validation Accuracy: 0.6194, Loss: 0.5723\n",
      "Epoch   2 Batch  150/269 - Train Accuracy: 0.6151, Validation Accuracy: 0.6159, Loss: 0.5637\n",
      "Epoch   2 Batch  160/269 - Train Accuracy: 0.6195, Validation Accuracy: 0.6294, Loss: 0.5428\n",
      "Epoch   2 Batch  170/269 - Train Accuracy: 0.6135, Validation Accuracy: 0.6083, Loss: 0.5362\n",
      "Epoch   2 Batch  180/269 - Train Accuracy: 0.6339, Validation Accuracy: 0.6261, Loss: 0.5414\n",
      "Epoch   2 Batch  190/269 - Train Accuracy: 0.6195, Validation Accuracy: 0.6345, Loss: 0.5290\n",
      "Epoch   2 Batch  200/269 - Train Accuracy: 0.6102, Validation Accuracy: 0.6317, Loss: 0.5526\n",
      "Epoch   2 Batch  210/269 - Train Accuracy: 0.6376, Validation Accuracy: 0.6328, Loss: 0.5187\n",
      "Epoch   2 Batch  220/269 - Train Accuracy: 0.6545, Validation Accuracy: 0.6442, Loss: 0.4912\n",
      "Epoch   2 Batch  230/269 - Train Accuracy: 0.6561, Validation Accuracy: 0.6628, Loss: 0.5071\n",
      "Epoch   2 Batch  240/269 - Train Accuracy: 0.6764, Validation Accuracy: 0.6451, Loss: 0.4685\n",
      "Epoch   2 Batch  250/269 - Train Accuracy: 0.6354, Validation Accuracy: 0.6372, Loss: 0.5268\n",
      "Epoch   2 Batch  260/269 - Train Accuracy: 0.6230, Validation Accuracy: 0.6449, Loss: 0.5359\n",
      "Epoch   3 Batch   10/269 - Train Accuracy: 0.6569, Validation Accuracy: 0.6572, Loss: 0.5230\n",
      "Epoch   3 Batch   20/269 - Train Accuracy: 0.6465, Validation Accuracy: 0.6600, Loss: 0.5096\n",
      "Epoch   3 Batch   30/269 - Train Accuracy: 0.6775, Validation Accuracy: 0.6760, Loss: 0.5008\n",
      "Epoch   3 Batch   40/269 - Train Accuracy: 0.6531, Validation Accuracy: 0.6512, Loss: 0.5169\n",
      "Epoch   3 Batch   50/269 - Train Accuracy: 0.6493, Validation Accuracy: 0.6632, Loss: 0.5168\n",
      "Epoch   3 Batch   60/269 - Train Accuracy: 0.6935, Validation Accuracy: 0.6743, Loss: 0.4584\n",
      "Epoch   3 Batch   70/269 - Train Accuracy: 0.6965, Validation Accuracy: 0.6677, Loss: 0.4743\n",
      "Epoch   3 Batch   80/269 - Train Accuracy: 0.6758, Validation Accuracy: 0.6748, Loss: 0.4740\n",
      "Epoch   3 Batch   90/269 - Train Accuracy: 0.6583, Validation Accuracy: 0.6830, Loss: 0.4951\n",
      "Epoch   3 Batch  100/269 - Train Accuracy: 0.6878, Validation Accuracy: 0.6855, Loss: 0.4563\n",
      "Epoch   3 Batch  110/269 - Train Accuracy: 0.6967, Validation Accuracy: 0.6879, Loss: 0.4386\n"
     ]
    },
    {
     "name": "stdout",
     "output_type": "stream",
     "text": [
      "Epoch   3 Batch  120/269 - Train Accuracy: 0.6748, Validation Accuracy: 0.6955, Loss: 0.4698\n",
      "Epoch   3 Batch  130/269 - Train Accuracy: 0.6772, Validation Accuracy: 0.6783, Loss: 0.4574\n",
      "Epoch   3 Batch  140/269 - Train Accuracy: 0.7007, Validation Accuracy: 0.6963, Loss: 0.4526\n",
      "Epoch   3 Batch  150/269 - Train Accuracy: 0.6956, Validation Accuracy: 0.7053, Loss: 0.4346\n",
      "Epoch   3 Batch  160/269 - Train Accuracy: 0.7029, Validation Accuracy: 0.7037, Loss: 0.4236\n",
      "Epoch   3 Batch  170/269 - Train Accuracy: 0.7152, Validation Accuracy: 0.7013, Loss: 0.4190\n",
      "Epoch   3 Batch  180/269 - Train Accuracy: 0.7108, Validation Accuracy: 0.6926, Loss: 0.4134\n",
      "Epoch   3 Batch  190/269 - Train Accuracy: 0.6979, Validation Accuracy: 0.7072, Loss: 0.4137\n",
      "Epoch   3 Batch  200/269 - Train Accuracy: 0.7100, Validation Accuracy: 0.7106, Loss: 0.4224\n",
      "Epoch   3 Batch  210/269 - Train Accuracy: 0.7144, Validation Accuracy: 0.7074, Loss: 0.3970\n",
      "Epoch   3 Batch  220/269 - Train Accuracy: 0.7304, Validation Accuracy: 0.7108, Loss: 0.3822\n",
      "Epoch   3 Batch  230/269 - Train Accuracy: 0.7179, Validation Accuracy: 0.7110, Loss: 0.4030\n",
      "Epoch   3 Batch  240/269 - Train Accuracy: 0.7460, Validation Accuracy: 0.7140, Loss: 0.3615\n",
      "Epoch   3 Batch  250/269 - Train Accuracy: 0.7265, Validation Accuracy: 0.7186, Loss: 0.3934\n",
      "Epoch   3 Batch  260/269 - Train Accuracy: 0.7172, Validation Accuracy: 0.7314, Loss: 0.4048\n",
      "Epoch   4 Batch   10/269 - Train Accuracy: 0.7406, Validation Accuracy: 0.7206, Loss: 0.3797\n",
      "Epoch   4 Batch   20/269 - Train Accuracy: 0.7387, Validation Accuracy: 0.7394, Loss: 0.3874\n",
      "Epoch   4 Batch   30/269 - Train Accuracy: 0.7425, Validation Accuracy: 0.7370, Loss: 0.3530\n",
      "Epoch   4 Batch   40/269 - Train Accuracy: 0.6973, Validation Accuracy: 0.7134, Loss: 0.3817\n",
      "Epoch   4 Batch   50/269 - Train Accuracy: 0.7191, Validation Accuracy: 0.7348, Loss: 0.4156\n",
      "Epoch   4 Batch   60/269 - Train Accuracy: 0.7467, Validation Accuracy: 0.7314, Loss: 0.3401\n",
      "Epoch   4 Batch   70/269 - Train Accuracy: 0.7585, Validation Accuracy: 0.7411, Loss: 0.3478\n",
      "Epoch   4 Batch   80/269 - Train Accuracy: 0.7594, Validation Accuracy: 0.7426, Loss: 0.3478\n",
      "Epoch   4 Batch   90/269 - Train Accuracy: 0.7309, Validation Accuracy: 0.7528, Loss: 0.3557\n",
      "Epoch   4 Batch  100/269 - Train Accuracy: 0.7709, Validation Accuracy: 0.7557, Loss: 0.3305\n",
      "Epoch   4 Batch  110/269 - Train Accuracy: 0.7706, Validation Accuracy: 0.7531, Loss: 0.3153\n",
      "Epoch   4 Batch  120/269 - Train Accuracy: 0.7523, Validation Accuracy: 0.7552, Loss: 0.3368\n",
      "Epoch   4 Batch  130/269 - Train Accuracy: 0.7540, Validation Accuracy: 0.7508, Loss: 0.3323\n",
      "Epoch   4 Batch  140/269 - Train Accuracy: 0.7682, Validation Accuracy: 0.7593, Loss: 0.3202\n",
      "Epoch   4 Batch  150/269 - Train Accuracy: 0.7611, Validation Accuracy: 0.7556, Loss: 0.3197\n",
      "Epoch   4 Batch  160/269 - Train Accuracy: 0.7731, Validation Accuracy: 0.7574, Loss: 0.3092\n",
      "Epoch   4 Batch  170/269 - Train Accuracy: 0.7590, Validation Accuracy: 0.7614, Loss: 0.2965\n",
      "Epoch   4 Batch  180/269 - Train Accuracy: 0.7671, Validation Accuracy: 0.7649, Loss: 0.3006\n",
      "Epoch   4 Batch  190/269 - Train Accuracy: 0.7739, Validation Accuracy: 0.7655, Loss: 0.2958\n",
      "Epoch   4 Batch  200/269 - Train Accuracy: 0.7761, Validation Accuracy: 0.7663, Loss: 0.3028\n",
      "Epoch   4 Batch  210/269 - Train Accuracy: 0.7778, Validation Accuracy: 0.7678, Loss: 0.2886\n",
      "Epoch   4 Batch  220/269 - Train Accuracy: 0.7738, Validation Accuracy: 0.7657, Loss: 0.2754\n",
      "Epoch   4 Batch  230/269 - Train Accuracy: 0.7827, Validation Accuracy: 0.7732, Loss: 0.2802\n",
      "Epoch   4 Batch  240/269 - Train Accuracy: 0.8043, Validation Accuracy: 0.7776, Loss: 0.2573\n",
      "Epoch   4 Batch  250/269 - Train Accuracy: 0.7899, Validation Accuracy: 0.7789, Loss: 0.2817\n",
      "Epoch   4 Batch  260/269 - Train Accuracy: 0.7708, Validation Accuracy: 0.7714, Loss: 0.2903\n",
      "Epoch   5 Batch   10/269 - Train Accuracy: 0.7850, Validation Accuracy: 0.7812, Loss: 0.2748\n",
      "Epoch   5 Batch   20/269 - Train Accuracy: 0.7871, Validation Accuracy: 0.7842, Loss: 0.2777\n",
      "Epoch   5 Batch   30/269 - Train Accuracy: 0.7993, Validation Accuracy: 0.7866, Loss: 0.2728\n",
      "Epoch   5 Batch   40/269 - Train Accuracy: 0.7845, Validation Accuracy: 0.7746, Loss: 0.2839\n",
      "Epoch   5 Batch   50/269 - Train Accuracy: 0.7822, Validation Accuracy: 0.7864, Loss: 0.2811\n",
      "Epoch   5 Batch   60/269 - Train Accuracy: 0.7940, Validation Accuracy: 0.7894, Loss: 0.2484\n",
      "Epoch   5 Batch   70/269 - Train Accuracy: 0.8046, Validation Accuracy: 0.7904, Loss: 0.2496\n",
      "Epoch   5 Batch   80/269 - Train Accuracy: 0.7961, Validation Accuracy: 0.7853, Loss: 0.2556\n",
      "Epoch   5 Batch   90/269 - Train Accuracy: 0.7722, Validation Accuracy: 0.7882, Loss: 0.2654\n",
      "Epoch   5 Batch  100/269 - Train Accuracy: 0.8094, Validation Accuracy: 0.7913, Loss: 0.2370\n",
      "Epoch   5 Batch  110/269 - Train Accuracy: 0.8014, Validation Accuracy: 0.7917, Loss: 0.2410\n",
      "Epoch   5 Batch  120/269 - Train Accuracy: 0.7970, Validation Accuracy: 0.7930, Loss: 0.2612\n",
      "Epoch   5 Batch  130/269 - Train Accuracy: 0.7942, Validation Accuracy: 0.7957, Loss: 0.2533\n",
      "Epoch   5 Batch  140/269 - Train Accuracy: 0.8100, Validation Accuracy: 0.8014, Loss: 0.2459\n",
      "Epoch   5 Batch  150/269 - Train Accuracy: 0.7942, Validation Accuracy: 0.7943, Loss: 0.2380\n",
      "Epoch   5 Batch  160/269 - Train Accuracy: 0.8103, Validation Accuracy: 0.8093, Loss: 0.2245\n",
      "Epoch   5 Batch  170/269 - Train Accuracy: 0.8094, Validation Accuracy: 0.7948, Loss: 0.2201\n",
      "Epoch   5 Batch  180/269 - Train Accuracy: 0.8130, Validation Accuracy: 0.7915, Loss: 0.2271\n",
      "Epoch   5 Batch  190/269 - Train Accuracy: 0.8172, Validation Accuracy: 0.8120, Loss: 0.2251\n",
      "Epoch   5 Batch  200/269 - Train Accuracy: 0.8026, Validation Accuracy: 0.7966, Loss: 0.2300\n",
      "Epoch   5 Batch  210/269 - Train Accuracy: 0.8051, Validation Accuracy: 0.8114, Loss: 0.2190\n",
      "Epoch   5 Batch  220/269 - Train Accuracy: 0.8161, Validation Accuracy: 0.8068, Loss: 0.2075\n",
      "Epoch   5 Batch  230/269 - Train Accuracy: 0.8067, Validation Accuracy: 0.8029, Loss: 0.2194\n",
      "Epoch   5 Batch  240/269 - Train Accuracy: 0.8473, Validation Accuracy: 0.8094, Loss: 0.1884\n",
      "Epoch   5 Batch  250/269 - Train Accuracy: 0.8354, Validation Accuracy: 0.8102, Loss: 0.2123\n",
      "Epoch   5 Batch  260/269 - Train Accuracy: 0.8087, Validation Accuracy: 0.8018, Loss: 0.2200\n",
      "Epoch   6 Batch   10/269 - Train Accuracy: 0.8235, Validation Accuracy: 0.8056, Loss: 0.2076\n",
      "Epoch   6 Batch   20/269 - Train Accuracy: 0.8236, Validation Accuracy: 0.8136, Loss: 0.2052\n",
      "Epoch   6 Batch   30/269 - Train Accuracy: 0.8271, Validation Accuracy: 0.8169, Loss: 0.2020\n",
      "Epoch   6 Batch   40/269 - Train Accuracy: 0.8220, Validation Accuracy: 0.8089, Loss: 0.2084\n",
      "Epoch   6 Batch   50/269 - Train Accuracy: 0.8108, Validation Accuracy: 0.8160, Loss: 0.2118\n",
      "Epoch   6 Batch   60/269 - Train Accuracy: 0.8202, Validation Accuracy: 0.8165, Loss: 0.1840\n",
      "Epoch   6 Batch   70/269 - Train Accuracy: 0.8439, Validation Accuracy: 0.8161, Loss: 0.1890\n",
      "Epoch   6 Batch   80/269 - Train Accuracy: 0.8322, Validation Accuracy: 0.8150, Loss: 0.1853\n",
      "Epoch   6 Batch   90/269 - Train Accuracy: 0.8037, Validation Accuracy: 0.8151, Loss: 0.1978\n",
      "Epoch   6 Batch  100/269 - Train Accuracy: 0.8425, Validation Accuracy: 0.8177, Loss: 0.1846\n",
      "Epoch   6 Batch  110/269 - Train Accuracy: 0.8251, Validation Accuracy: 0.8215, Loss: 0.1782\n",
      "Epoch   6 Batch  120/269 - Train Accuracy: 0.8326, Validation Accuracy: 0.8282, Loss: 0.1935\n",
      "Epoch   6 Batch  130/269 - Train Accuracy: 0.8401, Validation Accuracy: 0.8219, Loss: 0.1845\n",
      "Epoch   6 Batch  140/269 - Train Accuracy: 0.8360, Validation Accuracy: 0.8187, Loss: 0.1886\n",
      "Epoch   6 Batch  150/269 - Train Accuracy: 0.8198, Validation Accuracy: 0.8200, Loss: 0.1843\n",
      "Epoch   6 Batch  160/269 - Train Accuracy: 0.8418, Validation Accuracy: 0.8265, Loss: 0.1716\n",
      "Epoch   6 Batch  170/269 - Train Accuracy: 0.8247, Validation Accuracy: 0.8234, Loss: 0.1795\n",
      "Epoch   6 Batch  180/269 - Train Accuracy: 0.8442, Validation Accuracy: 0.8224, Loss: 0.1730\n",
      "Epoch   6 Batch  190/269 - Train Accuracy: 0.8315, Validation Accuracy: 0.8309, Loss: 0.1627\n",
      "Epoch   6 Batch  200/269 - Train Accuracy: 0.8433, Validation Accuracy: 0.8307, Loss: 0.1630\n",
      "Epoch   6 Batch  210/269 - Train Accuracy: 0.8468, Validation Accuracy: 0.8315, Loss: 0.1547\n",
      "Epoch   6 Batch  220/269 - Train Accuracy: 0.8422, Validation Accuracy: 0.8374, Loss: 0.1495\n"
     ]
    },
    {
     "name": "stdout",
     "output_type": "stream",
     "text": [
      "Epoch   6 Batch  230/269 - Train Accuracy: 0.8402, Validation Accuracy: 0.8368, Loss: 0.1537\n",
      "Epoch   6 Batch  240/269 - Train Accuracy: 0.8699, Validation Accuracy: 0.8330, Loss: 0.1357\n",
      "Epoch   6 Batch  250/269 - Train Accuracy: 0.8545, Validation Accuracy: 0.8334, Loss: 0.1588\n",
      "Epoch   6 Batch  260/269 - Train Accuracy: 0.8300, Validation Accuracy: 0.8275, Loss: 0.1573\n",
      "Epoch   7 Batch   10/269 - Train Accuracy: 0.8569, Validation Accuracy: 0.8480, Loss: 0.1335\n",
      "Epoch   7 Batch   20/269 - Train Accuracy: 0.8685, Validation Accuracy: 0.8477, Loss: 0.1268\n",
      "Epoch   7 Batch   30/269 - Train Accuracy: 0.8625, Validation Accuracy: 0.8500, Loss: 0.1259\n",
      "Epoch   7 Batch   40/269 - Train Accuracy: 0.8610, Validation Accuracy: 0.8558, Loss: 0.1322\n",
      "Epoch   7 Batch   50/269 - Train Accuracy: 0.8492, Validation Accuracy: 0.8583, Loss: 0.1372\n",
      "Epoch   7 Batch   60/269 - Train Accuracy: 0.8662, Validation Accuracy: 0.8538, Loss: 0.1208\n",
      "Epoch   7 Batch   70/269 - Train Accuracy: 0.8632, Validation Accuracy: 0.8461, Loss: 0.1227\n",
      "Epoch   7 Batch   80/269 - Train Accuracy: 0.8586, Validation Accuracy: 0.8493, Loss: 0.1231\n",
      "Epoch   7 Batch   90/269 - Train Accuracy: 0.8634, Validation Accuracy: 0.8513, Loss: 0.1245\n",
      "Epoch   7 Batch  100/269 - Train Accuracy: 0.8717, Validation Accuracy: 0.8613, Loss: 0.1192\n",
      "Epoch   7 Batch  110/269 - Train Accuracy: 0.8743, Validation Accuracy: 0.8634, Loss: 0.1104\n",
      "Epoch   7 Batch  120/269 - Train Accuracy: 0.8692, Validation Accuracy: 0.8691, Loss: 0.1159\n",
      "Epoch   7 Batch  130/269 - Train Accuracy: 0.8963, Validation Accuracy: 0.8699, Loss: 0.1139\n",
      "Epoch   7 Batch  140/269 - Train Accuracy: 0.8724, Validation Accuracy: 0.8733, Loss: 0.1086\n",
      "Epoch   7 Batch  150/269 - Train Accuracy: 0.8785, Validation Accuracy: 0.8691, Loss: 0.1120\n",
      "Epoch   7 Batch  160/269 - Train Accuracy: 0.8857, Validation Accuracy: 0.8652, Loss: 0.1020\n",
      "Epoch   7 Batch  170/269 - Train Accuracy: 0.8896, Validation Accuracy: 0.8854, Loss: 0.0952\n",
      "Epoch   7 Batch  180/269 - Train Accuracy: 0.8922, Validation Accuracy: 0.8731, Loss: 0.1029\n",
      "Epoch   7 Batch  190/269 - Train Accuracy: 0.8858, Validation Accuracy: 0.8803, Loss: 0.1069\n",
      "Epoch   7 Batch  200/269 - Train Accuracy: 0.8922, Validation Accuracy: 0.8801, Loss: 0.1002\n",
      "Epoch   7 Batch  210/269 - Train Accuracy: 0.8716, Validation Accuracy: 0.8857, Loss: 0.1005\n",
      "Epoch   7 Batch  220/269 - Train Accuracy: 0.8724, Validation Accuracy: 0.8851, Loss: 0.0967\n",
      "Epoch   7 Batch  230/269 - Train Accuracy: 0.8941, Validation Accuracy: 0.8853, Loss: 0.0937\n",
      "Epoch   7 Batch  240/269 - Train Accuracy: 0.9069, Validation Accuracy: 0.8857, Loss: 0.0820\n",
      "Epoch   7 Batch  250/269 - Train Accuracy: 0.8944, Validation Accuracy: 0.8855, Loss: 0.0913\n",
      "Epoch   7 Batch  260/269 - Train Accuracy: 0.8800, Validation Accuracy: 0.8958, Loss: 0.1056\n",
      "Epoch   8 Batch   10/269 - Train Accuracy: 0.8982, Validation Accuracy: 0.8939, Loss: 0.0853\n",
      "Epoch   8 Batch   20/269 - Train Accuracy: 0.9050, Validation Accuracy: 0.8950, Loss: 0.0858\n",
      "Epoch   8 Batch   30/269 - Train Accuracy: 0.8973, Validation Accuracy: 0.9033, Loss: 0.0880\n",
      "Epoch   8 Batch   40/269 - Train Accuracy: 0.8922, Validation Accuracy: 0.8820, Loss: 0.0977\n",
      "Epoch   8 Batch   50/269 - Train Accuracy: 0.8802, Validation Accuracy: 0.8968, Loss: 0.0992\n",
      "Epoch   8 Batch   60/269 - Train Accuracy: 0.8983, Validation Accuracy: 0.9055, Loss: 0.0814\n",
      "Epoch   8 Batch   70/269 - Train Accuracy: 0.9001, Validation Accuracy: 0.8971, Loss: 0.0877\n",
      "Epoch   8 Batch   80/269 - Train Accuracy: 0.8888, Validation Accuracy: 0.8973, Loss: 0.0858\n",
      "Epoch   8 Batch   90/269 - Train Accuracy: 0.8938, Validation Accuracy: 0.8940, Loss: 0.0893\n",
      "Epoch   8 Batch  100/269 - Train Accuracy: 0.9034, Validation Accuracy: 0.9019, Loss: 0.0858\n",
      "Epoch   8 Batch  110/269 - Train Accuracy: 0.8893, Validation Accuracy: 0.8988, Loss: 0.0739\n",
      "Epoch   8 Batch  120/269 - Train Accuracy: 0.9050, Validation Accuracy: 0.9074, Loss: 0.0888\n",
      "Epoch   8 Batch  130/269 - Train Accuracy: 0.9297, Validation Accuracy: 0.9062, Loss: 0.0775\n",
      "Epoch   8 Batch  140/269 - Train Accuracy: 0.9020, Validation Accuracy: 0.9142, Loss: 0.0791\n",
      "Epoch   8 Batch  150/269 - Train Accuracy: 0.9172, Validation Accuracy: 0.9127, Loss: 0.0856\n",
      "Epoch   8 Batch  160/269 - Train Accuracy: 0.9087, Validation Accuracy: 0.9077, Loss: 0.0774\n",
      "Epoch   8 Batch  170/269 - Train Accuracy: 0.9112, Validation Accuracy: 0.9204, Loss: 0.0701\n",
      "Epoch   8 Batch  180/269 - Train Accuracy: 0.9270, Validation Accuracy: 0.9195, Loss: 0.0728\n",
      "Epoch   8 Batch  190/269 - Train Accuracy: 0.9222, Validation Accuracy: 0.9277, Loss: 0.0720\n",
      "Epoch   8 Batch  200/269 - Train Accuracy: 0.9170, Validation Accuracy: 0.9067, Loss: 0.0718\n",
      "Epoch   8 Batch  210/269 - Train Accuracy: 0.9169, Validation Accuracy: 0.9153, Loss: 0.0763\n",
      "Epoch   8 Batch  220/269 - Train Accuracy: 0.9302, Validation Accuracy: 0.9194, Loss: 0.0666\n",
      "Epoch   8 Batch  230/269 - Train Accuracy: 0.9386, Validation Accuracy: 0.9250, Loss: 0.0708\n",
      "Epoch   8 Batch  240/269 - Train Accuracy: 0.9261, Validation Accuracy: 0.9191, Loss: 0.0703\n",
      "Epoch   8 Batch  250/269 - Train Accuracy: 0.9252, Validation Accuracy: 0.9191, Loss: 0.0719\n",
      "Epoch   8 Batch  260/269 - Train Accuracy: 0.9206, Validation Accuracy: 0.9237, Loss: 0.0789\n",
      "Epoch   9 Batch   10/269 - Train Accuracy: 0.9249, Validation Accuracy: 0.9290, Loss: 0.0582\n",
      "Epoch   9 Batch   20/269 - Train Accuracy: 0.9294, Validation Accuracy: 0.9356, Loss: 0.0628\n",
      "Epoch   9 Batch   30/269 - Train Accuracy: 0.9266, Validation Accuracy: 0.9208, Loss: 0.0622\n",
      "Epoch   9 Batch   40/269 - Train Accuracy: 0.9105, Validation Accuracy: 0.9160, Loss: 0.0686\n",
      "Epoch   9 Batch   50/269 - Train Accuracy: 0.9086, Validation Accuracy: 0.9246, Loss: 0.0761\n",
      "Epoch   9 Batch   60/269 - Train Accuracy: 0.9364, Validation Accuracy: 0.9313, Loss: 0.0592\n",
      "Epoch   9 Batch   70/269 - Train Accuracy: 0.9287, Validation Accuracy: 0.9285, Loss: 0.0670\n",
      "Epoch   9 Batch   80/269 - Train Accuracy: 0.9147, Validation Accuracy: 0.9266, Loss: 0.0641\n",
      "Epoch   9 Batch   90/269 - Train Accuracy: 0.9277, Validation Accuracy: 0.9222, Loss: 0.0621\n",
      "Epoch   9 Batch  100/269 - Train Accuracy: 0.9240, Validation Accuracy: 0.9237, Loss: 0.0646\n",
      "Epoch   9 Batch  110/269 - Train Accuracy: 0.9325, Validation Accuracy: 0.9309, Loss: 0.0580\n",
      "Epoch   9 Batch  120/269 - Train Accuracy: 0.9390, Validation Accuracy: 0.9380, Loss: 0.0596\n",
      "Epoch   9 Batch  130/269 - Train Accuracy: 0.9392, Validation Accuracy: 0.9378, Loss: 0.0584\n",
      "Epoch   9 Batch  140/269 - Train Accuracy: 0.9348, Validation Accuracy: 0.9282, Loss: 0.0598\n",
      "Epoch   9 Batch  150/269 - Train Accuracy: 0.9384, Validation Accuracy: 0.9359, Loss: 0.0657\n",
      "Epoch   9 Batch  160/269 - Train Accuracy: 0.9369, Validation Accuracy: 0.9363, Loss: 0.0557\n",
      "Epoch   9 Batch  170/269 - Train Accuracy: 0.9308, Validation Accuracy: 0.9353, Loss: 0.0576\n",
      "Epoch   9 Batch  180/269 - Train Accuracy: 0.9367, Validation Accuracy: 0.9388, Loss: 0.0653\n",
      "Epoch   9 Batch  190/269 - Train Accuracy: 0.9352, Validation Accuracy: 0.9299, Loss: 0.0650\n",
      "Epoch   9 Batch  200/269 - Train Accuracy: 0.9326, Validation Accuracy: 0.9371, Loss: 0.0609\n",
      "Epoch   9 Batch  210/269 - Train Accuracy: 0.9243, Validation Accuracy: 0.9371, Loss: 0.0595\n",
      "Epoch   9 Batch  220/269 - Train Accuracy: 0.9292, Validation Accuracy: 0.9381, Loss: 0.0570\n",
      "Epoch   9 Batch  230/269 - Train Accuracy: 0.9472, Validation Accuracy: 0.9341, Loss: 0.0529\n",
      "Epoch   9 Batch  240/269 - Train Accuracy: 0.9423, Validation Accuracy: 0.9416, Loss: 0.0541\n",
      "Epoch   9 Batch  250/269 - Train Accuracy: 0.9319, Validation Accuracy: 0.9371, Loss: 0.0627\n",
      "Epoch   9 Batch  260/269 - Train Accuracy: 0.9312, Validation Accuracy: 0.9406, Loss: 0.0626\n",
      "Model Trained and Saved\n"
     ]
    }
   ],
   "source": [
    "\"\"\"\n",
    "DON'T MODIFY ANYTHING IN THIS CELL\n",
    "\"\"\"\n",
    "def get_accuracy(target, logits):\n",
    "    \"\"\"\n",
    "    Calculate accuracy\n",
    "    \"\"\"\n",
    "    max_seq = max(target.shape[1], logits.shape[1])\n",
    "    if max_seq - target.shape[1]:\n",
    "        target = np.pad(\n",
    "            target,\n",
    "            [(0,0),(0,max_seq - target.shape[1])],\n",
    "            'constant')\n",
    "    if max_seq - logits.shape[1]:\n",
    "        logits = np.pad(\n",
    "            logits,\n",
    "            [(0,0),(0,max_seq - logits.shape[1])],\n",
    "            'constant')\n",
    "\n",
    "    return np.mean(np.equal(target, logits))\n",
    "\n",
    "# Split data to training and validation sets\n",
    "train_source = source_int_text[batch_size:]\n",
    "train_target = target_int_text[batch_size:]\n",
    "valid_source = source_int_text[:batch_size]\n",
    "valid_target = target_int_text[:batch_size]\n",
    "(valid_sources_batch, valid_targets_batch, valid_sources_lengths, valid_targets_lengths ) = next(get_batches(valid_source,\n",
    "                                                                                                             valid_target,\n",
    "                                                                                                             batch_size,\n",
    "                                                                                                             source_vocab_to_int['<PAD>'],\n",
    "                                                                                                             target_vocab_to_int['<PAD>']))                                                                                                  \n",
    "with tf.Session(graph=train_graph) as sess:\n",
    "    sess.run(tf.global_variables_initializer())\n",
    "\n",
    "    for epoch_i in range(epochs):\n",
    "        for batch_i, (source_batch, target_batch, sources_lengths, targets_lengths) in enumerate(\n",
    "                get_batches(train_source, train_target, batch_size,\n",
    "                            source_vocab_to_int['<PAD>'],\n",
    "                            target_vocab_to_int['<PAD>'])):\n",
    "\n",
    "            _, loss = sess.run(\n",
    "                [train_op, cost],\n",
    "                {input_data: source_batch,\n",
    "                 targets: target_batch,\n",
    "                 lr: learning_rate,\n",
    "                 target_sequence_length: targets_lengths,\n",
    "                 source_sequence_length: sources_lengths,\n",
    "                 keep_prob: keep_probability})\n",
    "\n",
    "\n",
    "            if batch_i % display_step == 0 and batch_i > 0:\n",
    "\n",
    "\n",
    "                batch_train_logits = sess.run(\n",
    "                    inference_logits,\n",
    "                    {input_data: source_batch,\n",
    "                     source_sequence_length: sources_lengths,\n",
    "                     target_sequence_length: targets_lengths,\n",
    "                     keep_prob: 1.0})\n",
    "\n",
    "\n",
    "                batch_valid_logits = sess.run(\n",
    "                    inference_logits,\n",
    "                    {input_data: valid_sources_batch,\n",
    "                     source_sequence_length: valid_sources_lengths,\n",
    "                     target_sequence_length: valid_targets_lengths,\n",
    "                     keep_prob: 1.0})\n",
    "\n",
    "                train_acc = get_accuracy(target_batch, batch_train_logits)\n",
    "\n",
    "                valid_acc = get_accuracy(valid_targets_batch, batch_valid_logits)\n",
    "\n",
    "                print('Epoch {:>3} Batch {:>4}/{} - Train Accuracy: {:>6.4f}, Validation Accuracy: {:>6.4f}, Loss: {:>6.4f}'\n",
    "                      .format(epoch_i, batch_i, len(source_int_text) // batch_size, train_acc, valid_acc, loss))\n",
    "\n",
    "    # Save Model\n",
    "    saver = tf.train.Saver()\n",
    "    saver.save(sess, save_path)\n",
    "    print('Model Trained and Saved')"
   ]
  },
  {
   "cell_type": "markdown",
   "metadata": {},
   "source": [
    "### Save Parameters\n",
    "Save the `batch_size` and `save_path` parameters for inference."
   ]
  },
  {
   "cell_type": "code",
   "execution_count": 18,
   "metadata": {
    "collapsed": true
   },
   "outputs": [],
   "source": [
    "\"\"\"\n",
    "DON'T MODIFY ANYTHING IN THIS CELL\n",
    "\"\"\"\n",
    "# Save parameters for checkpoint\n",
    "helper.save_params(save_path)"
   ]
  },
  {
   "cell_type": "markdown",
   "metadata": {},
   "source": [
    "# Checkpoint"
   ]
  },
  {
   "cell_type": "code",
   "execution_count": 19,
   "metadata": {
    "collapsed": true
   },
   "outputs": [],
   "source": [
    "\"\"\"\n",
    "DON'T MODIFY ANYTHING IN THIS CELL\n",
    "\"\"\"\n",
    "import tensorflow as tf\n",
    "import numpy as np\n",
    "import helper\n",
    "import problem_unittests as tests\n",
    "\n",
    "_, (source_vocab_to_int, target_vocab_to_int), (source_int_to_vocab, target_int_to_vocab) = helper.load_preprocess()\n",
    "load_path = helper.load_params()"
   ]
  },
  {
   "cell_type": "markdown",
   "metadata": {},
   "source": [
    "## Sentence to Sequence\n",
    "To feed a sentence into the model for translation, you first need to preprocess it.  Implement the function `sentence_to_seq()` to preprocess new sentences.\n",
    "\n",
    "- Convert the sentence to lowercase\n",
    "- Convert words into ids using `vocab_to_int`\n",
    " - Convert words not in the vocabulary, to the `<UNK>` word id."
   ]
  },
  {
   "cell_type": "code",
   "execution_count": 22,
   "metadata": {},
   "outputs": [
    {
     "name": "stdout",
     "output_type": "stream",
     "text": [
      "Tests Passed\n"
     ]
    }
   ],
   "source": [
    "def sentence_to_seq(sentence, vocab_to_int):\n",
    "    \"\"\"\n",
    "    Convert a sentence to a sequence of ids\n",
    "    :param sentence: String\n",
    "    :param vocab_to_int: Dictionary to go from the words to an id\n",
    "    :return: List of word ids\n",
    "    \"\"\"\n",
    "    # TODO: Implement Function\n",
    "    low_split = sentence.lower().split()\n",
    "    tmp = []\n",
    "    for wrd in low_split:\n",
    "        try:\n",
    "             tmp.append(vocab_to_int[wrd])\n",
    "        except:\n",
    "            tmp.append(vocab_to_int['<UNK>'])\n",
    "    return tmp\n",
    "\n",
    "\n",
    "\"\"\"\n",
    "DON'T MODIFY ANYTHING IN THIS CELL THAT IS BELOW THIS LINE\n",
    "\"\"\"\n",
    "tests.test_sentence_to_seq(sentence_to_seq)"
   ]
  },
  {
   "cell_type": "markdown",
   "metadata": {},
   "source": [
    "## Translate\n",
    "This will translate `translate_sentence` from English to French."
   ]
  },
  {
   "cell_type": "code",
   "execution_count": 23,
   "metadata": {},
   "outputs": [
    {
     "name": "stdout",
     "output_type": "stream",
     "text": [
      "INFO:tensorflow:Restoring parameters from checkpoints/dev\n",
      "Input\n",
      "  Word Ids:      [67, 127, 87, 64, 201, 224, 16]\n",
      "  English Words: ['he', 'saw', 'a', 'old', 'yellow', 'truck', '.']\n",
      "\n",
      "Prediction\n",
      "  Word Ids:      [218, 169, 225, 231, 59, 218, 333, 292, 1]\n",
      "  French Words: janvier i moteur j'aime agréable janvier mois neige <EOS>\n"
     ]
    }
   ],
   "source": [
    "translate_sentence = 'he saw a old yellow truck .'\n",
    "\n",
    "\n",
    "\"\"\"\n",
    "DON'T MODIFY ANYTHING IN THIS CELL\n",
    "\"\"\"\n",
    "translate_sentence = sentence_to_seq(translate_sentence, source_vocab_to_int)\n",
    "\n",
    "loaded_graph = tf.Graph()\n",
    "with tf.Session(graph=loaded_graph) as sess:\n",
    "    # Load saved model\n",
    "    loader = tf.train.import_meta_graph(load_path + '.meta')\n",
    "    loader.restore(sess, load_path)\n",
    "\n",
    "    input_data = loaded_graph.get_tensor_by_name('input:0')\n",
    "    logits = loaded_graph.get_tensor_by_name('predictions:0')\n",
    "    target_sequence_length = loaded_graph.get_tensor_by_name('target_sequence_length:0')\n",
    "    source_sequence_length = loaded_graph.get_tensor_by_name('source_sequence_length:0')\n",
    "    keep_prob = loaded_graph.get_tensor_by_name('keep_prob:0')\n",
    "\n",
    "    translate_logits = sess.run(logits, {input_data: [translate_sentence]*batch_size,\n",
    "                                         target_sequence_length: [len(translate_sentence)*2]*batch_size,\n",
    "                                         source_sequence_length: [len(translate_sentence)]*batch_size,\n",
    "                                         keep_prob: 1.0})[0]\n",
    "\n",
    "print('Input')\n",
    "print('  Word Ids:      {}'.format([i for i in translate_sentence]))\n",
    "print('  English Words: {}'.format([source_int_to_vocab[i] for i in translate_sentence]))\n",
    "\n",
    "print('\\nPrediction')\n",
    "print('  Word Ids:      {}'.format([i for i in translate_logits]))\n",
    "print('  French Words: {}'.format(\" \".join([target_int_to_vocab[i] for i in translate_logits])))\n"
   ]
  },
  {
   "cell_type": "markdown",
   "metadata": {},
   "source": [
    "## Imperfect Translation\n",
    "You might notice that some sentences translate better than others.  Since the dataset you're using only has a vocabulary of 227 English words of the thousands that you use, you're only going to see good results using these words.  For this project, you don't need a perfect translation. However, if you want to create a better translation model, you'll need better data.\n",
    "\n",
    "You can train on the [WMT10 French-English corpus](http://www.statmt.org/wmt10/training-giga-fren.tar).  This dataset has more vocabulary and richer in topics discussed.  However, this will take you days to train, so make sure you've a GPU and the neural network is performing well on dataset we provided.  Just make sure you play with the WMT10 corpus after you've submitted this project.\n",
    "## Submitting This Project\n",
    "When submitting this project, make sure to run all the cells before saving the notebook. Save the notebook file as \"dlnd_language_translation.ipynb\" and save it as a HTML file under \"File\" -> \"Download as\". Include the \"helper.py\" and \"problem_unittests.py\" files in your submission."
   ]
  },
  {
   "cell_type": "code",
   "execution_count": null,
   "metadata": {
    "collapsed": true
   },
   "outputs": [],
   "source": []
  }
 ],
 "metadata": {
  "anaconda-cloud": {},
  "kernelspec": {
   "display_name": "Python 3",
   "language": "python",
   "name": "python3"
  },
  "language_info": {
   "codemirror_mode": {
    "name": "ipython",
    "version": 3
   },
   "file_extension": ".py",
   "mimetype": "text/x-python",
   "name": "python",
   "nbconvert_exporter": "python",
   "pygments_lexer": "ipython3",
   "version": "3.6.2"
  }
 },
 "nbformat": 4,
 "nbformat_minor": 1
}
