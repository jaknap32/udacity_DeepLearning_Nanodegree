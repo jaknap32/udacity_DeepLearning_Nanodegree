{
 "cells": [
  {
   "cell_type": "code",
   "execution_count": 3,
   "metadata": {
    "ExecuteTime": {
     "end_time": "2017-11-28T11:48:22.364998Z",
     "start_time": "2017-11-28T11:48:22.361015Z"
    }
   },
   "outputs": [],
   "source": [
    "import tensorflow as tf\n",
    "import numpy as np\n",
    "\n",
    "from collections import namedtuple\n",
    "import time"
   ]
  },
  {
   "cell_type": "code",
   "execution_count": 4,
   "metadata": {
    "ExecuteTime": {
     "end_time": "2017-11-28T11:49:34.314610Z",
     "start_time": "2017-11-28T11:49:34.251712Z"
    },
    "collapsed": true
   },
   "outputs": [],
   "source": [
    "## converting chars to integers\n",
    "with open('anna.txt','r') as f:\n",
    "    text= f.read()\n",
    "\n",
    "vocab = set(text)"
   ]
  },
  {
   "cell_type": "code",
   "execution_count": 21,
   "metadata": {
    "ExecuteTime": {
     "end_time": "2017-11-28T11:56:04.179298Z",
     "start_time": "2017-11-28T11:56:04.173309Z"
    }
   },
   "outputs": [
    {
     "name": "stdout",
     "output_type": "stream",
     "text": [
      "{'7', '9', 'x', 'C', 'Q', 'X', '&', '2', 'S', 'r', 'D', '*', 'V', '?', 'M', 't', '.', ':', 'i', '%', ' ', ',', 'z', 'e', 'L', '$', 'H', 'W', 'w', 'v', 'Y', 'p', 'a', '\"', 'N', '8', '/', 'E', 'y', 'j', '(', 'U', 'J', 'o', 'b', '`', '1', 'h', 'f', 'F', '-', 'I', 'R', 'u', 'B', '4', 'A', 's', '3', '!', 'G', 'q', '@', 'K', 'm', 'd', \"'\", 'O', '_', 'g', 'c', ')', '5', '0', 'T', 'Z', '\\n', '6', ';', 'P', 'l', 'n', 'k'}\n",
      "83\n"
     ]
    }
   ],
   "source": [
    "print(vocab)\n",
    "print(len(vocab))\n",
    "## we get all the unique terms used"
   ]
  },
  {
   "cell_type": "code",
   "execution_count": 16,
   "metadata": {
    "ExecuteTime": {
     "end_time": "2017-11-28T11:52:56.540551Z",
     "start_time": "2017-11-28T11:52:56.535507Z"
    }
   },
   "outputs": [
    {
     "name": "stdout",
     "output_type": "stream",
     "text": [
      "{'7': 0, '9': 1, 'x': 2, 'C': 3, 'Q': 4, 'X': 5, '&': 6, '2': 7, 'S': 8, 'r': 9, 'D': 10, '*': 11, 'V': 12, '?': 13, 'M': 14, 't': 15, '.': 16, ':': 17, 'i': 18, '%': 19, ' ': 20, ',': 21, 'z': 22, 'e': 23, 'L': 24, '$': 25, 'H': 26, 'W': 27, 'w': 28, 'v': 29, 'Y': 30, 'p': 31, 'a': 32, '\"': 33, 'N': 34, '8': 35, '/': 36, 'E': 37, 'y': 38, 'j': 39, '(': 40, 'U': 41, 'J': 42, 'o': 43, 'b': 44, '`': 45, '1': 46, 'h': 47, 'f': 48, 'F': 49, '-': 50, 'I': 51, 'R': 52, 'u': 53, 'B': 54, '4': 55, 'A': 56, 's': 57, '3': 58, '!': 59, 'G': 60, 'q': 61, '@': 62, 'K': 63, 'm': 64, 'd': 65, \"'\": 66, 'O': 67, '_': 68, 'g': 69, 'c': 70, ')': 71, '5': 72, '0': 73, 'T': 74, 'Z': 75, '\\n': 76, '6': 77, ';': 78, 'P': 79, 'l': 80, 'n': 81, 'k': 82}\n"
     ]
    }
   ],
   "source": [
    "v2i = {c:i for i,c in enumerate(vocab)}\n",
    "print(v2i)"
   ]
  },
  {
   "cell_type": "code",
   "execution_count": 17,
   "metadata": {
    "ExecuteTime": {
     "end_time": "2017-11-28T11:52:56.794261Z",
     "start_time": "2017-11-28T11:52:56.788210Z"
    }
   },
   "outputs": [
    {
     "name": "stdout",
     "output_type": "stream",
     "text": [
      "{0: '7', 1: '9', 2: 'x', 3: 'C', 4: 'Q', 5: 'X', 6: '&', 7: '2', 8: 'S', 9: 'r', 10: 'D', 11: '*', 12: 'V', 13: '?', 14: 'M', 15: 't', 16: '.', 17: ':', 18: 'i', 19: '%', 20: ' ', 21: ',', 22: 'z', 23: 'e', 24: 'L', 25: '$', 26: 'H', 27: 'W', 28: 'w', 29: 'v', 30: 'Y', 31: 'p', 32: 'a', 33: '\"', 34: 'N', 35: '8', 36: '/', 37: 'E', 38: 'y', 39: 'j', 40: '(', 41: 'U', 42: 'J', 43: 'o', 44: 'b', 45: '`', 46: '1', 47: 'h', 48: 'f', 49: 'F', 50: '-', 51: 'I', 52: 'R', 53: 'u', 54: 'B', 55: '4', 56: 'A', 57: 's', 58: '3', 59: '!', 60: 'G', 61: 'q', 62: '@', 63: 'K', 64: 'm', 65: 'd', 66: \"'\", 67: 'O', 68: '_', 69: 'g', 70: 'c', 71: ')', 72: '5', 73: '0', 74: 'T', 75: 'Z', 76: '\\n', 77: '6', 78: ';', 79: 'P', 80: 'l', 81: 'n', 82: 'k'}\n"
     ]
    }
   ],
   "source": [
    "i2v = dict(enumerate(vocab))\n",
    "print(i2v)"
   ]
  },
  {
   "cell_type": "code",
   "execution_count": 20,
   "metadata": {
    "ExecuteTime": {
     "end_time": "2017-11-28T11:54:42.440285Z",
     "start_time": "2017-11-28T11:54:42.199116Z"
    }
   },
   "outputs": [
    {
     "name": "stdout",
     "output_type": "stream",
     "text": [
      "[ 3 47 32 ..., 57 16 76]\n"
     ]
    }
   ],
   "source": [
    "## encoding the whole book\n",
    "encoded_text = np.array([v2i[c] for c in text], dtype=np.int32)\n",
    "print(encoded_text)"
   ]
  },
  {
   "cell_type": "code",
   "execution_count": 29,
   "metadata": {
    "ExecuteTime": {
     "end_time": "2017-11-28T12:13:24.354577Z",
     "start_time": "2017-11-28T12:13:24.343550Z"
    }
   },
   "outputs": [],
   "source": [
    "def get_batches(arr, n_seqs, n_steps):\n",
    "    batch_size = n_seqs*n_steps\n",
    "    n_batches = len(arr)//batch_size\n",
    "    \n",
    "    ## round the batches\n",
    "    arr = arr[:batch_size*n_batches]\n",
    "    arr = arr.reshape(n_seqs,-1)\n",
    "    \n",
    "    for n in range(0, n_seqs, n_steps):\n",
    "        x = arr[:,n:n+n_steps]\n",
    "        y= np.zeros_like(x)\n",
    "        y[:, :-1], y[:, -1] = x[:, 1:], x[:, 0]\n",
    "        yield x,y"
   ]
  },
  {
   "cell_type": "code",
   "execution_count": 30,
   "metadata": {
    "ExecuteTime": {
     "end_time": "2017-11-28T12:13:24.648907Z",
     "start_time": "2017-11-28T12:13:24.643357Z"
    }
   },
   "outputs": [
    {
     "data": {
      "text/plain": [
       "generator"
      ]
     },
     "execution_count": 30,
     "metadata": {},
     "output_type": "execute_result"
    }
   ],
   "source": [
    "batches = get_batches(encoded_text, 10, 50)\n",
    "type(batches)"
   ]
  },
  {
   "cell_type": "code",
   "execution_count": 31,
   "metadata": {
    "ExecuteTime": {
     "end_time": "2017-11-28T12:13:24.931661Z",
     "start_time": "2017-11-28T12:13:24.928685Z"
    }
   },
   "outputs": [],
   "source": [
    "x, y = next(batches)"
   ]
  },
  {
   "cell_type": "code",
   "execution_count": 34,
   "metadata": {
    "ExecuteTime": {
     "end_time": "2017-11-28T12:14:01.182751Z",
     "start_time": "2017-11-28T12:14:01.175765Z"
    }
   },
   "outputs": [
    {
     "name": "stdout",
     "output_type": "stream",
     "text": [
      "x\n",
      " [[ 3 47 32 31 15 23  9 20 46 76]\n",
      " [20 32 64 20 81 43 15 20 69 43]\n",
      " [29 18 81 16 76 76 33 30 23 57]\n",
      " [81 20 65 53  9 18 81 69 20 47]\n",
      " [20 18 15 20 18 57 21 20 57 18]\n",
      " [20 51 15 20 28 32 57 76 43 81]\n",
      " [47 23 81 20 70 43 64 23 20 48]\n",
      " [78 20 44 53 15 20 81 43 28 20]\n",
      " [15 20 18 57 81 66 15 16 20 74]\n",
      " [20 57 32 18 65 20 15 43 20 47]]\n",
      "\n",
      "y\n",
      " [[47 32 31 15 23  9 20 46 76 76]\n",
      " [32 64 20 81 43 15 20 69 43 18]\n",
      " [18 81 16 76 76 33 30 23 57 21]\n",
      " [20 65 53  9 18 81 69 20 47 18]\n",
      " [18 15 20 18 57 21 20 57 18  9]\n",
      " [51 15 20 28 32 57 76 43 81 80]\n",
      " [23 81 20 70 43 64 23 20 48 43]\n",
      " [20 44 53 15 20 81 43 28 20 57]\n",
      " [20 18 57 81 66 15 16 20 74 47]\n",
      " [57 32 18 65 20 15 43 20 47 23]]\n"
     ]
    }
   ],
   "source": [
    "print('x\\n', x[:10, :10])\n",
    "print('\\ny\\n', y[:10, :10])"
   ]
  },
  {
   "cell_type": "code",
   "execution_count": null,
   "metadata": {
    "collapsed": true
   },
   "outputs": [],
   "source": [
    "def build_inputs(batch_size, num_steps):\n",
    "    inputs = tf.placeholder(tf.int32, [batch_size, num_steps])"
   ]
  }
 ],
 "metadata": {
  "kernelspec": {
   "display_name": "Python 3",
   "language": "python",
   "name": "python3"
  },
  "language_info": {
   "codemirror_mode": {
    "name": "ipython",
    "version": 3
   },
   "file_extension": ".py",
   "mimetype": "text/x-python",
   "name": "python",
   "nbconvert_exporter": "python",
   "pygments_lexer": "ipython3",
   "version": "3.6.2"
  },
  "varInspector": {
   "cols": {
    "lenName": 16,
    "lenType": 16,
    "lenVar": 40
   },
   "kernels_config": {
    "python": {
     "delete_cmd_postfix": "",
     "delete_cmd_prefix": "del ",
     "library": "var_list.py",
     "varRefreshCmd": "print(var_dic_list())"
    },
    "r": {
     "delete_cmd_postfix": ") ",
     "delete_cmd_prefix": "rm(",
     "library": "var_list.r",
     "varRefreshCmd": "cat(var_dic_list()) "
    }
   },
   "types_to_exclude": [
    "module",
    "function",
    "builtin_function_or_method",
    "instance",
    "_Feature"
   ],
   "window_display": false
  }
 },
 "nbformat": 4,
 "nbformat_minor": 2
}
